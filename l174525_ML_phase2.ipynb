{
 "cells": [
  {
   "cell_type": "code",
   "execution_count": 39,
   "metadata": {},
   "outputs": [
    {
     "name": "stderr",
     "output_type": "stream",
     "text": [
      "[nltk_data] Downloading package punkt to /home/aneeq/nltk_data...\n",
      "[nltk_data]   Package punkt is already up-to-date!\n"
     ]
    },
    {
     "data": {
      "text/plain": [
       "True"
      ]
     },
     "execution_count": 39,
     "metadata": {},
     "output_type": "execute_result"
    }
   ],
   "source": [
    "import nltk\n",
    "nltk.download('punkt') "
   ]
  },
  {
   "cell_type": "code",
   "execution_count": 40,
   "metadata": {},
   "outputs": [],
   "source": [
    "import tensorflow as tf "
   ]
  },
  {
   "cell_type": "code",
   "execution_count": 41,
   "metadata": {},
   "outputs": [],
   "source": [
    "import pandas as pd \n",
    "import numpy as np \n",
    "import matplotlib.pyplot as plt \n",
    "import seaborn as sns"
   ]
  },
  {
   "cell_type": "code",
   "execution_count": 42,
   "metadata": {},
   "outputs": [],
   "source": [
    "df = pd.read_csv (r'data.csv')"
   ]
  },
  {
   "cell_type": "code",
   "execution_count": 43,
   "metadata": {},
   "outputs": [
    {
     "data": {
      "text/plain": [
       "URLs         0\n",
       "Headline     0\n",
       "Body        21\n",
       "Label        0\n",
       "dtype: int64"
      ]
     },
     "execution_count": 43,
     "metadata": {},
     "output_type": "execute_result"
    }
   ],
   "source": [
    "df.isnull().sum() "
   ]
  },
  {
   "cell_type": "code",
   "execution_count": 44,
   "metadata": {},
   "outputs": [
    {
     "name": "stdout",
     "output_type": "stream",
     "text": [
      "<class 'pandas.core.frame.DataFrame'>\n",
      "RangeIndex: 4009 entries, 0 to 4008\n",
      "Data columns (total 4 columns):\n",
      " #   Column    Non-Null Count  Dtype \n",
      "---  ------    --------------  ----- \n",
      " 0   URLs      4009 non-null   object\n",
      " 1   Headline  4009 non-null   object\n",
      " 2   Body      3988 non-null   object\n",
      " 3   Label     4009 non-null   int64 \n",
      "dtypes: int64(1), object(3)\n",
      "memory usage: 125.4+ KB\n"
     ]
    }
   ],
   "source": [
    "df.info()"
   ]
  },
  {
   "cell_type": "code",
   "execution_count": 45,
   "metadata": {},
   "outputs": [
    {
     "data": {
      "text/html": [
       "<div>\n",
       "<style scoped>\n",
       "    .dataframe tbody tr th:only-of-type {\n",
       "        vertical-align: middle;\n",
       "    }\n",
       "\n",
       "    .dataframe tbody tr th {\n",
       "        vertical-align: top;\n",
       "    }\n",
       "\n",
       "    .dataframe thead th {\n",
       "        text-align: right;\n",
       "    }\n",
       "</style>\n",
       "<table border=\"1\" class=\"dataframe\">\n",
       "  <thead>\n",
       "    <tr style=\"text-align: right;\">\n",
       "      <th></th>\n",
       "      <th>URLs</th>\n",
       "      <th>Headline</th>\n",
       "      <th>Body</th>\n",
       "      <th>Label</th>\n",
       "    </tr>\n",
       "  </thead>\n",
       "  <tbody>\n",
       "    <tr>\n",
       "      <th>0</th>\n",
       "      <td>http://www.bbc.com/news/world-us-canada-414191...</td>\n",
       "      <td>Four ways Bob Corker skewered Donald Trump</td>\n",
       "      <td>Image copyright Getty Images\\nOn Sunday mornin...</td>\n",
       "      <td>1</td>\n",
       "    </tr>\n",
       "    <tr>\n",
       "      <th>1</th>\n",
       "      <td>https://www.reuters.com/article/us-filmfestiva...</td>\n",
       "      <td>Linklater's war veteran comedy speaks to moder...</td>\n",
       "      <td>LONDON (Reuters) - “Last Flag Flying”, a comed...</td>\n",
       "      <td>1</td>\n",
       "    </tr>\n",
       "    <tr>\n",
       "      <th>2</th>\n",
       "      <td>https://www.nytimes.com/2017/10/09/us/politics...</td>\n",
       "      <td>Trump’s Fight With Corker Jeopardizes His Legi...</td>\n",
       "      <td>The feud broke into public view last week when...</td>\n",
       "      <td>1</td>\n",
       "    </tr>\n",
       "    <tr>\n",
       "      <th>3</th>\n",
       "      <td>https://www.reuters.com/article/us-mexico-oil-...</td>\n",
       "      <td>Egypt's Cheiron wins tie-up with Pemex for Mex...</td>\n",
       "      <td>MEXICO CITY (Reuters) - Egypt’s Cheiron Holdin...</td>\n",
       "      <td>1</td>\n",
       "    </tr>\n",
       "    <tr>\n",
       "      <th>4</th>\n",
       "      <td>http://www.cnn.com/videos/cnnmoney/2017/10/08/...</td>\n",
       "      <td>Jason Aldean opens 'SNL' with Vegas tribute</td>\n",
       "      <td>Country singer Jason Aldean, who was performin...</td>\n",
       "      <td>1</td>\n",
       "    </tr>\n",
       "    <tr>\n",
       "      <th>...</th>\n",
       "      <td>...</td>\n",
       "      <td>...</td>\n",
       "      <td>...</td>\n",
       "      <td>...</td>\n",
       "    </tr>\n",
       "    <tr>\n",
       "      <th>4004</th>\n",
       "      <td>http://beforeitsnews.com/sports/2017/09/trends...</td>\n",
       "      <td>Trends to Watch</td>\n",
       "      <td>Trends to Watch\\n% of readers think this story...</td>\n",
       "      <td>0</td>\n",
       "    </tr>\n",
       "    <tr>\n",
       "      <th>4005</th>\n",
       "      <td>http://beforeitsnews.com/u-s-politics/2017/10/...</td>\n",
       "      <td>Trump Jr. Is Soon To Give A 30-Minute Speech F...</td>\n",
       "      <td>Trump Jr. Is Soon To Give A 30-Minute Speech F...</td>\n",
       "      <td>0</td>\n",
       "    </tr>\n",
       "    <tr>\n",
       "      <th>4006</th>\n",
       "      <td>https://www.activistpost.com/2017/09/ron-paul-...</td>\n",
       "      <td>Ron Paul on Trump, Anarchism &amp; the AltRight</td>\n",
       "      <td>NaN</td>\n",
       "      <td>0</td>\n",
       "    </tr>\n",
       "    <tr>\n",
       "      <th>4007</th>\n",
       "      <td>https://www.reuters.com/article/us-china-pharm...</td>\n",
       "      <td>China to accept overseas trial data in bid to ...</td>\n",
       "      <td>SHANGHAI (Reuters) - China said it plans to ac...</td>\n",
       "      <td>1</td>\n",
       "    </tr>\n",
       "    <tr>\n",
       "      <th>4008</th>\n",
       "      <td>http://beforeitsnews.com/u-s-politics/2017/10/...</td>\n",
       "      <td>Vice President Mike Pence Leaves NFL Game Beca...</td>\n",
       "      <td>Vice President Mike Pence Leaves NFL Game Beca...</td>\n",
       "      <td>0</td>\n",
       "    </tr>\n",
       "  </tbody>\n",
       "</table>\n",
       "<p>4009 rows × 4 columns</p>\n",
       "</div>"
      ],
      "text/plain": [
       "                                                   URLs  \\\n",
       "0     http://www.bbc.com/news/world-us-canada-414191...   \n",
       "1     https://www.reuters.com/article/us-filmfestiva...   \n",
       "2     https://www.nytimes.com/2017/10/09/us/politics...   \n",
       "3     https://www.reuters.com/article/us-mexico-oil-...   \n",
       "4     http://www.cnn.com/videos/cnnmoney/2017/10/08/...   \n",
       "...                                                 ...   \n",
       "4004  http://beforeitsnews.com/sports/2017/09/trends...   \n",
       "4005  http://beforeitsnews.com/u-s-politics/2017/10/...   \n",
       "4006  https://www.activistpost.com/2017/09/ron-paul-...   \n",
       "4007  https://www.reuters.com/article/us-china-pharm...   \n",
       "4008  http://beforeitsnews.com/u-s-politics/2017/10/...   \n",
       "\n",
       "                                               Headline  \\\n",
       "0            Four ways Bob Corker skewered Donald Trump   \n",
       "1     Linklater's war veteran comedy speaks to moder...   \n",
       "2     Trump’s Fight With Corker Jeopardizes His Legi...   \n",
       "3     Egypt's Cheiron wins tie-up with Pemex for Mex...   \n",
       "4           Jason Aldean opens 'SNL' with Vegas tribute   \n",
       "...                                                 ...   \n",
       "4004                                    Trends to Watch   \n",
       "4005  Trump Jr. Is Soon To Give A 30-Minute Speech F...   \n",
       "4006        Ron Paul on Trump, Anarchism & the AltRight   \n",
       "4007  China to accept overseas trial data in bid to ...   \n",
       "4008  Vice President Mike Pence Leaves NFL Game Beca...   \n",
       "\n",
       "                                                   Body  Label  \n",
       "0     Image copyright Getty Images\\nOn Sunday mornin...      1  \n",
       "1     LONDON (Reuters) - “Last Flag Flying”, a comed...      1  \n",
       "2     The feud broke into public view last week when...      1  \n",
       "3     MEXICO CITY (Reuters) - Egypt’s Cheiron Holdin...      1  \n",
       "4     Country singer Jason Aldean, who was performin...      1  \n",
       "...                                                 ...    ...  \n",
       "4004  Trends to Watch\\n% of readers think this story...      0  \n",
       "4005  Trump Jr. Is Soon To Give A 30-Minute Speech F...      0  \n",
       "4006                                                NaN      0  \n",
       "4007  SHANGHAI (Reuters) - China said it plans to ac...      1  \n",
       "4008  Vice President Mike Pence Leaves NFL Game Beca...      0  \n",
       "\n",
       "[4009 rows x 4 columns]"
      ]
     },
     "execution_count": 45,
     "metadata": {},
     "output_type": "execute_result"
    }
   ],
   "source": [
    "df"
   ]
  },
  {
   "cell_type": "code",
   "execution_count": 46,
   "metadata": {},
   "outputs": [],
   "source": [
    "df.drop(columns=['URLs'],inplace=True)"
   ]
  },
  {
   "cell_type": "code",
   "execution_count": 47,
   "metadata": {},
   "outputs": [],
   "source": [
    "df['orignal'] = df['Headline']+ ' ' + df['Body'] "
   ]
  },
  {
   "cell_type": "code",
   "execution_count": 48,
   "metadata": {},
   "outputs": [
    {
     "data": {
      "text/plain": [
       "'Four ways Bob Corker skewered Donald Trump Image copyright Getty Images\\nOn Sunday morning, Donald Trump went off on a Twitter tirade against a member of his own party.\\nThis, in itself, isn\\'t exactly huge news. It\\'s far from the first time the president has turned his rhetorical cannons on his own ranks.\\nThis time, however, his attacks were particularly biting and personal. He essentially called Tennessee Senator Bob Corker, the chair of the powerful Senate Foreign Relations Committee, a coward for not running for re-election.\\nHe said Mr Corker \"begged\" for the president\\'s endorsement, which he refused to give. He wrongly claimed that Mr Corker\\'s support of the Iranian nuclear agreement was his only political accomplishment.\\nUnlike some of his colleagues, Mr Corker - free from having to worry about his immediate political future - didn\\'t hold his tongue.\\nSkip Twitter post by @SenBobCorker It\\'s a shame the White House has become an adult day care center. Someone obviously missed their shift this morning. — Senator Bob Corker (@SenBobCorker) October 8, 2017 Report\\nThat wasn\\'t the end of it, though. He then spoke with the New York Times and really let the president have it. Here are four choice quotes from the Tennessee senator\\'s interview with the Times and why they are particularly damning.\\n\"I don\\'t know why the president tweets out things that are not true. You know he does it, everyone knows he does it, but he does.\"\\nYou can\\'t really sugarcoat this one. Mr Corker is flat-out saying the president is a liar - and everyone knows it.\\nThe senator, in particular, is challenging Mr Trump\\'s insistence that he unsuccessfully pleaded for his endorsement, but the accusation is much broader.\\nMr Corker and the president used to be something akin to allies. The Tennessean was on Mr Trump\\'s short list for vice-president and secretary of state.\\nImage copyright Getty Images Image caption Bob Corker at Trump campaign rally in July 2016\\nThose days are seemingly very much over now - and it\\'s not like Mr Corker is going anywhere anytime soon. Although he\\'s not running for re-election, he\\'ll be in the Senate, chairing a powerful committee, until January 2019.\\nThe president\\'s margin for success in that chamber is razor-thin. If Democrats can continue to stand together in opposition, he can afford to lose only two votes out of 52 Republican senators. That\\'s why healthcare reform collapsed in July - and it could be bad news for tax efforts.\\nFrom here on out, Mr Corker isn\\'t going to do the president any favours.\\n\"Look, except for a few people, the vast majority of our caucus understands what we\\'re dealing with here.\"\\nFrustration in Congress has been growing over what Republicans feel has been the president\\'s inability to focus on advancing their agenda. Getting a sharply divided party to come together on plans to repeal Obamacare, reform taxes or boost infrastructure spending is challenging enough. Doing so when the president stirs up unrelated controversies on a seemingly daily basis makes things all the harder.\\nOne of the president\\'s gifts has been his ability to shake off negative stories by quickly moving on to a different subject. That worked brilliantly during his presidential campaign, but it\\'s less effective during the legislative slow grind.\\nImage copyright Getty Images Image caption Corker at the confirmation hearing for Secretary of State Rex Tillerson\\nFor months, Republicans in Congress have been grumbling about this in the background and among themselves. Occasionally, someone like Mr McConnell will lament that the president doesn\\'t understand how the Senate works.\\nMr Corker has now stated it loud and clear. And, what\\'s more, he says almost everyone agrees with him. They\\'ve kept silent until now because they still hope to pass conservative legislation that the president can sign or fear Mr Trump\\'s legions will back a primary challenge next year or stay home during the general election.\\nIf that calculus ever changes - if it becomes riskier to stay silent than speak out - Mr Trump will be in real trouble.\\n\"A lot of people think that there is some kind of \\'good cop, bad cop\\' act underway, but that\\'s just not true.\"\\nTime and again, Mr Trump has appeared to undercut Secretary of State Rex Tillerson and others in his administration who are attempting to use soft diplomacy to deal with a range of international crises.\\nThe war against the Taliban in Afghanistan, Iran\\'s compliance with the multinational nuclear agreement, the ongoing dispute between Qatar and its Persian Gulf neighbours, the unrest in Venezuela and, most recently, North Korea\\'s continued ballistic missile tests have all been the target of the president\\'s offhand remarks and Twitter invective.\\nSome administration defenders have said this is all a part of Mr Trump\\'s strategy - an updated version of the Nixon-era \"madman theory\", in which the president forces adversaries to give way because they fear an unpredictable US leader\\'s actions.\\nMr Corker isn\\'t buying it. There\\'s no strategy, he says, just the possibility of chaos - which he hopes Mr Trump\\'s senior advisers will be able to avoid.\\n\"I know for a fact that every single day at the White House, it\\'s a situation of trying to contain him.\"\\nThere\\'s now a growing collection of John Kelly face-palm photos that serve as a testament to the chief-of-staff\\'s reported frustration at dealing with the president.\\nMr Trump goes off-script to praise torch-bearing white nationalists at a rally in Charlottesville, and Mr Kelly is captured closing his eyes and rubbing the arch of his nose, as if attempting to stave off a migraine.\\nImage copyright Reuters Image caption White House Chief of Staff John Kelly looks on as US President Donald Trump speaks at a campaign rally\\nThe president calls North Korean leaders \"criminals\" in a speech to the United Nations, and Mr Kelly straight-up buries his face in his hands.\\nThe White House communications team is often left scrambling to try to explain or reframe an indelicate presidential \"joke\" or remark that directly contradicts what was until then the official administration line.\\nEven though Mr Kelly has brought some discipline to the West Wing staff, the president still marches to the beat of his own drum - and continues to have unfettered access to his phone\\'s Twitter app.\\nBob Corker is only the latest person - politician, journalist, sports star or celebrity - to feel the mercurial president\\'s uncontainable ire.'"
      ]
     },
     "execution_count": 48,
     "metadata": {},
     "output_type": "execute_result"
    }
   ],
   "source": [
    "df['orignal'][0]"
   ]
  },
  {
   "cell_type": "code",
   "execution_count": 49,
   "metadata": {},
   "outputs": [
    {
     "name": "stderr",
     "output_type": "stream",
     "text": [
      "[nltk_data] Downloading package stopwords to /home/aneeq/nltk_data...\n",
      "[nltk_data]   Package stopwords is already up-to-date!\n"
     ]
    },
    {
     "data": {
      "text/plain": [
       "True"
      ]
     },
     "execution_count": 49,
     "metadata": {},
     "output_type": "execute_result"
    }
   ],
   "source": [
    "nltk.download('stopwords') "
   ]
  },
  {
   "cell_type": "code",
   "execution_count": 50,
   "metadata": {},
   "outputs": [],
   "source": [
    "from nltk.corpus import stopwords"
   ]
  },
  {
   "cell_type": "code",
   "execution_count": 51,
   "metadata": {},
   "outputs": [],
   "source": [
    "stop_words = stopwords.words('english')"
   ]
  },
  {
   "cell_type": "code",
   "execution_count": 52,
   "metadata": {},
   "outputs": [
    {
     "data": {
      "text/plain": [
       "['i',\n",
       " 'me',\n",
       " 'my',\n",
       " 'myself',\n",
       " 'we',\n",
       " 'our',\n",
       " 'ours',\n",
       " 'ourselves',\n",
       " 'you',\n",
       " \"you're\",\n",
       " \"you've\",\n",
       " \"you'll\",\n",
       " \"you'd\",\n",
       " 'your',\n",
       " 'yours',\n",
       " 'yourself',\n",
       " 'yourselves',\n",
       " 'he',\n",
       " 'him',\n",
       " 'his',\n",
       " 'himself',\n",
       " 'she',\n",
       " \"she's\",\n",
       " 'her',\n",
       " 'hers',\n",
       " 'herself',\n",
       " 'it',\n",
       " \"it's\",\n",
       " 'its',\n",
       " 'itself',\n",
       " 'they',\n",
       " 'them',\n",
       " 'their',\n",
       " 'theirs',\n",
       " 'themselves',\n",
       " 'what',\n",
       " 'which',\n",
       " 'who',\n",
       " 'whom',\n",
       " 'this',\n",
       " 'that',\n",
       " \"that'll\",\n",
       " 'these',\n",
       " 'those',\n",
       " 'am',\n",
       " 'is',\n",
       " 'are',\n",
       " 'was',\n",
       " 'were',\n",
       " 'be',\n",
       " 'been',\n",
       " 'being',\n",
       " 'have',\n",
       " 'has',\n",
       " 'had',\n",
       " 'having',\n",
       " 'do',\n",
       " 'does',\n",
       " 'did',\n",
       " 'doing',\n",
       " 'a',\n",
       " 'an',\n",
       " 'the',\n",
       " 'and',\n",
       " 'but',\n",
       " 'if',\n",
       " 'or',\n",
       " 'because',\n",
       " 'as',\n",
       " 'until',\n",
       " 'while',\n",
       " 'of',\n",
       " 'at',\n",
       " 'by',\n",
       " 'for',\n",
       " 'with',\n",
       " 'about',\n",
       " 'against',\n",
       " 'between',\n",
       " 'into',\n",
       " 'through',\n",
       " 'during',\n",
       " 'before',\n",
       " 'after',\n",
       " 'above',\n",
       " 'below',\n",
       " 'to',\n",
       " 'from',\n",
       " 'up',\n",
       " 'down',\n",
       " 'in',\n",
       " 'out',\n",
       " 'on',\n",
       " 'off',\n",
       " 'over',\n",
       " 'under',\n",
       " 'again',\n",
       " 'further',\n",
       " 'then',\n",
       " 'once',\n",
       " 'here',\n",
       " 'there',\n",
       " 'when',\n",
       " 'where',\n",
       " 'why',\n",
       " 'how',\n",
       " 'all',\n",
       " 'any',\n",
       " 'both',\n",
       " 'each',\n",
       " 'few',\n",
       " 'more',\n",
       " 'most',\n",
       " 'other',\n",
       " 'some',\n",
       " 'such',\n",
       " 'no',\n",
       " 'nor',\n",
       " 'not',\n",
       " 'only',\n",
       " 'own',\n",
       " 'same',\n",
       " 'so',\n",
       " 'than',\n",
       " 'too',\n",
       " 'very',\n",
       " 's',\n",
       " 't',\n",
       " 'can',\n",
       " 'will',\n",
       " 'just',\n",
       " 'don',\n",
       " \"don't\",\n",
       " 'should',\n",
       " \"should've\",\n",
       " 'now',\n",
       " 'd',\n",
       " 'll',\n",
       " 'm',\n",
       " 'o',\n",
       " 're',\n",
       " 've',\n",
       " 'y',\n",
       " 'ain',\n",
       " 'aren',\n",
       " \"aren't\",\n",
       " 'couldn',\n",
       " \"couldn't\",\n",
       " 'didn',\n",
       " \"didn't\",\n",
       " 'doesn',\n",
       " \"doesn't\",\n",
       " 'hadn',\n",
       " \"hadn't\",\n",
       " 'hasn',\n",
       " \"hasn't\",\n",
       " 'haven',\n",
       " \"haven't\",\n",
       " 'isn',\n",
       " \"isn't\",\n",
       " 'ma',\n",
       " 'mightn',\n",
       " \"mightn't\",\n",
       " 'mustn',\n",
       " \"mustn't\",\n",
       " 'needn',\n",
       " \"needn't\",\n",
       " 'shan',\n",
       " \"shan't\",\n",
       " 'shouldn',\n",
       " \"shouldn't\",\n",
       " 'wasn',\n",
       " \"wasn't\",\n",
       " 'weren',\n",
       " \"weren't\",\n",
       " 'won',\n",
       " \"won't\",\n",
       " 'wouldn',\n",
       " \"wouldn't\"]"
      ]
     },
     "execution_count": 52,
     "metadata": {},
     "output_type": "execute_result"
    }
   ],
   "source": [
    "stop_words"
   ]
  },
  {
   "cell_type": "code",
   "execution_count": 53,
   "metadata": {},
   "outputs": [],
   "source": [
    "import gensim\n",
    "from gensim.utils import simple_preprocess\n",
    "from gensim.parsing.preprocessing import STOPWORDS"
   ]
  },
  {
   "cell_type": "code",
   "execution_count": 54,
   "metadata": {},
   "outputs": [],
   "source": [
    "def preprocess(text):\n",
    "    result =[]\n",
    "    for token in gensim.utils.simple_preprocess(text):\n",
    "        if token not in gensim.parsing.preprocessing.STOPWORDS and len(token)>3 and token not in stop_words:\n",
    "            result.append(token)\n",
    "    return result \n"
   ]
  },
  {
   "cell_type": "code",
   "execution_count": 55,
   "metadata": {},
   "outputs": [],
   "source": [
    "df['clean'] =df['orignal'].astype(str).apply(preprocess) "
   ]
  },
  {
   "cell_type": "code",
   "execution_count": 56,
   "metadata": {},
   "outputs": [
    {
     "data": {
      "text/plain": [
       "['ways',\n",
       " 'corker',\n",
       " 'skewered',\n",
       " 'donald',\n",
       " 'trump',\n",
       " 'image',\n",
       " 'copyright',\n",
       " 'getty',\n",
       " 'images',\n",
       " 'sunday',\n",
       " 'morning',\n",
       " 'donald',\n",
       " 'trump',\n",
       " 'went',\n",
       " 'twitter',\n",
       " 'tirade',\n",
       " 'member',\n",
       " 'party',\n",
       " 'exactly',\n",
       " 'huge',\n",
       " 'news',\n",
       " 'time',\n",
       " 'president',\n",
       " 'turned',\n",
       " 'rhetorical',\n",
       " 'cannons',\n",
       " 'ranks',\n",
       " 'time',\n",
       " 'attacks',\n",
       " 'particularly',\n",
       " 'biting',\n",
       " 'personal',\n",
       " 'essentially',\n",
       " 'called',\n",
       " 'tennessee',\n",
       " 'senator',\n",
       " 'corker',\n",
       " 'chair',\n",
       " 'powerful',\n",
       " 'senate',\n",
       " 'foreign',\n",
       " 'relations',\n",
       " 'committee',\n",
       " 'coward',\n",
       " 'running',\n",
       " 'election',\n",
       " 'said',\n",
       " 'corker',\n",
       " 'begged',\n",
       " 'president',\n",
       " 'endorsement',\n",
       " 'refused',\n",
       " 'wrongly',\n",
       " 'claimed',\n",
       " 'corker',\n",
       " 'support',\n",
       " 'iranian',\n",
       " 'nuclear',\n",
       " 'agreement',\n",
       " 'political',\n",
       " 'accomplishment',\n",
       " 'unlike',\n",
       " 'colleagues',\n",
       " 'corker',\n",
       " 'free',\n",
       " 'worry',\n",
       " 'immediate',\n",
       " 'political',\n",
       " 'future',\n",
       " 'hold',\n",
       " 'tongue',\n",
       " 'skip',\n",
       " 'twitter',\n",
       " 'post',\n",
       " 'senbobcorker',\n",
       " 'shame',\n",
       " 'white',\n",
       " 'house',\n",
       " 'adult',\n",
       " 'care',\n",
       " 'center',\n",
       " 'obviously',\n",
       " 'missed',\n",
       " 'shift',\n",
       " 'morning',\n",
       " 'senator',\n",
       " 'corker',\n",
       " 'senbobcorker',\n",
       " 'october',\n",
       " 'report',\n",
       " 'spoke',\n",
       " 'york',\n",
       " 'times',\n",
       " 'president',\n",
       " 'choice',\n",
       " 'quotes',\n",
       " 'tennessee',\n",
       " 'senator',\n",
       " 'interview',\n",
       " 'times',\n",
       " 'particularly',\n",
       " 'damning',\n",
       " 'know',\n",
       " 'president',\n",
       " 'tweets',\n",
       " 'things',\n",
       " 'true',\n",
       " 'know',\n",
       " 'knows',\n",
       " 'sugarcoat',\n",
       " 'corker',\n",
       " 'flat',\n",
       " 'saying',\n",
       " 'president',\n",
       " 'liar',\n",
       " 'knows',\n",
       " 'senator',\n",
       " 'particular',\n",
       " 'challenging',\n",
       " 'trump',\n",
       " 'insistence',\n",
       " 'unsuccessfully',\n",
       " 'pleaded',\n",
       " 'endorsement',\n",
       " 'accusation',\n",
       " 'broader',\n",
       " 'corker',\n",
       " 'president',\n",
       " 'akin',\n",
       " 'allies',\n",
       " 'tennessean',\n",
       " 'trump',\n",
       " 'short',\n",
       " 'list',\n",
       " 'vice',\n",
       " 'president',\n",
       " 'secretary',\n",
       " 'state',\n",
       " 'image',\n",
       " 'copyright',\n",
       " 'getty',\n",
       " 'images',\n",
       " 'image',\n",
       " 'caption',\n",
       " 'corker',\n",
       " 'trump',\n",
       " 'campaign',\n",
       " 'rally',\n",
       " 'july',\n",
       " 'days',\n",
       " 'seemingly',\n",
       " 'like',\n",
       " 'corker',\n",
       " 'going',\n",
       " 'anytime',\n",
       " 'soon',\n",
       " 'running',\n",
       " 'election',\n",
       " 'senate',\n",
       " 'chairing',\n",
       " 'powerful',\n",
       " 'committee',\n",
       " 'january',\n",
       " 'president',\n",
       " 'margin',\n",
       " 'success',\n",
       " 'chamber',\n",
       " 'razor',\n",
       " 'democrats',\n",
       " 'continue',\n",
       " 'stand',\n",
       " 'opposition',\n",
       " 'afford',\n",
       " 'lose',\n",
       " 'votes',\n",
       " 'republican',\n",
       " 'senators',\n",
       " 'healthcare',\n",
       " 'reform',\n",
       " 'collapsed',\n",
       " 'july',\n",
       " 'news',\n",
       " 'efforts',\n",
       " 'corker',\n",
       " 'going',\n",
       " 'president',\n",
       " 'favours',\n",
       " 'look',\n",
       " 'people',\n",
       " 'vast',\n",
       " 'majority',\n",
       " 'caucus',\n",
       " 'understands',\n",
       " 'dealing',\n",
       " 'frustration',\n",
       " 'congress',\n",
       " 'growing',\n",
       " 'republicans',\n",
       " 'feel',\n",
       " 'president',\n",
       " 'inability',\n",
       " 'focus',\n",
       " 'advancing',\n",
       " 'agenda',\n",
       " 'getting',\n",
       " 'sharply',\n",
       " 'divided',\n",
       " 'party',\n",
       " 'come',\n",
       " 'plans',\n",
       " 'repeal',\n",
       " 'obamacare',\n",
       " 'reform',\n",
       " 'taxes',\n",
       " 'boost',\n",
       " 'infrastructure',\n",
       " 'spending',\n",
       " 'challenging',\n",
       " 'president',\n",
       " 'stirs',\n",
       " 'unrelated',\n",
       " 'controversies',\n",
       " 'seemingly',\n",
       " 'daily',\n",
       " 'basis',\n",
       " 'makes',\n",
       " 'things',\n",
       " 'harder',\n",
       " 'president',\n",
       " 'gifts',\n",
       " 'ability',\n",
       " 'shake',\n",
       " 'negative',\n",
       " 'stories',\n",
       " 'quickly',\n",
       " 'moving',\n",
       " 'different',\n",
       " 'subject',\n",
       " 'worked',\n",
       " 'brilliantly',\n",
       " 'presidential',\n",
       " 'campaign',\n",
       " 'effective',\n",
       " 'legislative',\n",
       " 'slow',\n",
       " 'grind',\n",
       " 'image',\n",
       " 'copyright',\n",
       " 'getty',\n",
       " 'images',\n",
       " 'image',\n",
       " 'caption',\n",
       " 'corker',\n",
       " 'confirmation',\n",
       " 'hearing',\n",
       " 'secretary',\n",
       " 'state',\n",
       " 'tillerson',\n",
       " 'months',\n",
       " 'republicans',\n",
       " 'congress',\n",
       " 'grumbling',\n",
       " 'background',\n",
       " 'occasionally',\n",
       " 'like',\n",
       " 'mcconnell',\n",
       " 'lament',\n",
       " 'president',\n",
       " 'understand',\n",
       " 'senate',\n",
       " 'works',\n",
       " 'corker',\n",
       " 'stated',\n",
       " 'loud',\n",
       " 'clear',\n",
       " 'says',\n",
       " 'agrees',\n",
       " 'kept',\n",
       " 'silent',\n",
       " 'hope',\n",
       " 'pass',\n",
       " 'conservative',\n",
       " 'legislation',\n",
       " 'president',\n",
       " 'sign',\n",
       " 'fear',\n",
       " 'trump',\n",
       " 'legions',\n",
       " 'primary',\n",
       " 'challenge',\n",
       " 'year',\n",
       " 'stay',\n",
       " 'home',\n",
       " 'general',\n",
       " 'election',\n",
       " 'calculus',\n",
       " 'changes',\n",
       " 'riskier',\n",
       " 'stay',\n",
       " 'silent',\n",
       " 'speak',\n",
       " 'trump',\n",
       " 'real',\n",
       " 'trouble',\n",
       " 'people',\n",
       " 'think',\n",
       " 'kind',\n",
       " 'good',\n",
       " 'underway',\n",
       " 'true',\n",
       " 'time',\n",
       " 'trump',\n",
       " 'appeared',\n",
       " 'undercut',\n",
       " 'secretary',\n",
       " 'state',\n",
       " 'tillerson',\n",
       " 'administration',\n",
       " 'attempting',\n",
       " 'soft',\n",
       " 'diplomacy',\n",
       " 'deal',\n",
       " 'range',\n",
       " 'international',\n",
       " 'crises',\n",
       " 'taliban',\n",
       " 'afghanistan',\n",
       " 'iran',\n",
       " 'compliance',\n",
       " 'multinational',\n",
       " 'nuclear',\n",
       " 'agreement',\n",
       " 'ongoing',\n",
       " 'dispute',\n",
       " 'qatar',\n",
       " 'persian',\n",
       " 'gulf',\n",
       " 'neighbours',\n",
       " 'unrest',\n",
       " 'venezuela',\n",
       " 'recently',\n",
       " 'north',\n",
       " 'korea',\n",
       " 'continued',\n",
       " 'ballistic',\n",
       " 'missile',\n",
       " 'tests',\n",
       " 'target',\n",
       " 'president',\n",
       " 'offhand',\n",
       " 'remarks',\n",
       " 'twitter',\n",
       " 'invective',\n",
       " 'administration',\n",
       " 'defenders',\n",
       " 'said',\n",
       " 'trump',\n",
       " 'strategy',\n",
       " 'updated',\n",
       " 'version',\n",
       " 'nixon',\n",
       " 'madman',\n",
       " 'theory',\n",
       " 'president',\n",
       " 'forces',\n",
       " 'adversaries',\n",
       " 'fear',\n",
       " 'unpredictable',\n",
       " 'leader',\n",
       " 'actions',\n",
       " 'corker',\n",
       " 'buying',\n",
       " 'strategy',\n",
       " 'says',\n",
       " 'possibility',\n",
       " 'chaos',\n",
       " 'hopes',\n",
       " 'trump',\n",
       " 'senior',\n",
       " 'advisers',\n",
       " 'able',\n",
       " 'avoid',\n",
       " 'know',\n",
       " 'fact',\n",
       " 'single',\n",
       " 'white',\n",
       " 'house',\n",
       " 'situation',\n",
       " 'trying',\n",
       " 'contain',\n",
       " 'growing',\n",
       " 'collection',\n",
       " 'john',\n",
       " 'kelly',\n",
       " 'face',\n",
       " 'palm',\n",
       " 'photos',\n",
       " 'serve',\n",
       " 'testament',\n",
       " 'chief',\n",
       " 'staff',\n",
       " 'reported',\n",
       " 'frustration',\n",
       " 'dealing',\n",
       " 'president',\n",
       " 'trump',\n",
       " 'goes',\n",
       " 'script',\n",
       " 'praise',\n",
       " 'torch',\n",
       " 'bearing',\n",
       " 'white',\n",
       " 'nationalists',\n",
       " 'rally',\n",
       " 'charlottesville',\n",
       " 'kelly',\n",
       " 'captured',\n",
       " 'closing',\n",
       " 'eyes',\n",
       " 'rubbing',\n",
       " 'arch',\n",
       " 'nose',\n",
       " 'attempting',\n",
       " 'stave',\n",
       " 'migraine',\n",
       " 'image',\n",
       " 'copyright',\n",
       " 'reuters',\n",
       " 'image',\n",
       " 'caption',\n",
       " 'white',\n",
       " 'house',\n",
       " 'chief',\n",
       " 'staff',\n",
       " 'john',\n",
       " 'kelly',\n",
       " 'looks',\n",
       " 'president',\n",
       " 'donald',\n",
       " 'trump',\n",
       " 'speaks',\n",
       " 'campaign',\n",
       " 'rally',\n",
       " 'president',\n",
       " 'calls',\n",
       " 'north',\n",
       " 'korean',\n",
       " 'leaders',\n",
       " 'criminals',\n",
       " 'speech',\n",
       " 'united',\n",
       " 'nations',\n",
       " 'kelly',\n",
       " 'straight',\n",
       " 'buries',\n",
       " 'face',\n",
       " 'hands',\n",
       " 'white',\n",
       " 'house',\n",
       " 'communications',\n",
       " 'team',\n",
       " 'left',\n",
       " 'scrambling',\n",
       " 'explain',\n",
       " 'reframe',\n",
       " 'indelicate',\n",
       " 'presidential',\n",
       " 'joke',\n",
       " 'remark',\n",
       " 'directly',\n",
       " 'contradicts',\n",
       " 'official',\n",
       " 'administration',\n",
       " 'line',\n",
       " 'kelly',\n",
       " 'brought',\n",
       " 'discipline',\n",
       " 'west',\n",
       " 'wing',\n",
       " 'staff',\n",
       " 'president',\n",
       " 'marches',\n",
       " 'beat',\n",
       " 'drum',\n",
       " 'continues',\n",
       " 'unfettered',\n",
       " 'access',\n",
       " 'phone',\n",
       " 'twitter',\n",
       " 'corker',\n",
       " 'latest',\n",
       " 'person',\n",
       " 'politician',\n",
       " 'journalist',\n",
       " 'sports',\n",
       " 'star',\n",
       " 'celebrity',\n",
       " 'feel',\n",
       " 'mercurial',\n",
       " 'president',\n",
       " 'uncontainable']"
      ]
     },
     "execution_count": 56,
     "metadata": {},
     "output_type": "execute_result"
    }
   ],
   "source": [
    "df['clean'][0]"
   ]
  },
  {
   "cell_type": "code",
   "execution_count": 57,
   "metadata": {},
   "outputs": [],
   "source": [
    "list_of_words =[]\n",
    "for i in df.clean:\n",
    "    for j in i:\n",
    "        list_of_words.append(j)"
   ]
  },
  {
   "cell_type": "code",
   "execution_count": 58,
   "metadata": {},
   "outputs": [
    {
     "data": {
      "text/plain": [
       "954605"
      ]
     },
     "execution_count": 58,
     "metadata": {},
     "output_type": "execute_result"
    }
   ],
   "source": [
    "len(list_of_words)"
   ]
  },
  {
   "cell_type": "code",
   "execution_count": 59,
   "metadata": {},
   "outputs": [],
   "source": [
    "total_words = len(list(set(list_of_words)))"
   ]
  },
  {
   "cell_type": "code",
   "execution_count": 60,
   "metadata": {},
   "outputs": [
    {
     "data": {
      "text/plain": [
       "41969"
      ]
     },
     "execution_count": 60,
     "metadata": {},
     "output_type": "execute_result"
    }
   ],
   "source": [
    "total_words"
   ]
  },
  {
   "cell_type": "code",
   "execution_count": 61,
   "metadata": {},
   "outputs": [],
   "source": [
    "df['clean_joined']= df['clean'].apply(lambda x: \" \".join(x))"
   ]
  },
  {
   "cell_type": "code",
   "execution_count": 62,
   "metadata": {},
   "outputs": [
    {
     "data": {
      "text/plain": [
       "'ways corker skewered donald trump image copyright getty images sunday morning donald trump went twitter tirade member party exactly huge news time president turned rhetorical cannons ranks time attacks particularly biting personal essentially called tennessee senator corker chair powerful senate foreign relations committee coward running election said corker begged president endorsement refused wrongly claimed corker support iranian nuclear agreement political accomplishment unlike colleagues corker free worry immediate political future hold tongue skip twitter post senbobcorker shame white house adult care center obviously missed shift morning senator corker senbobcorker october report spoke york times president choice quotes tennessee senator interview times particularly damning know president tweets things true know knows sugarcoat corker flat saying president liar knows senator particular challenging trump insistence unsuccessfully pleaded endorsement accusation broader corker president akin allies tennessean trump short list vice president secretary state image copyright getty images image caption corker trump campaign rally july days seemingly like corker going anytime soon running election senate chairing powerful committee january president margin success chamber razor democrats continue stand opposition afford lose votes republican senators healthcare reform collapsed july news efforts corker going president favours look people vast majority caucus understands dealing frustration congress growing republicans feel president inability focus advancing agenda getting sharply divided party come plans repeal obamacare reform taxes boost infrastructure spending challenging president stirs unrelated controversies seemingly daily basis makes things harder president gifts ability shake negative stories quickly moving different subject worked brilliantly presidential campaign effective legislative slow grind image copyright getty images image caption corker confirmation hearing secretary state tillerson months republicans congress grumbling background occasionally like mcconnell lament president understand senate works corker stated loud clear says agrees kept silent hope pass conservative legislation president sign fear trump legions primary challenge year stay home general election calculus changes riskier stay silent speak trump real trouble people think kind good underway true time trump appeared undercut secretary state tillerson administration attempting soft diplomacy deal range international crises taliban afghanistan iran compliance multinational nuclear agreement ongoing dispute qatar persian gulf neighbours unrest venezuela recently north korea continued ballistic missile tests target president offhand remarks twitter invective administration defenders said trump strategy updated version nixon madman theory president forces adversaries fear unpredictable leader actions corker buying strategy says possibility chaos hopes trump senior advisers able avoid know fact single white house situation trying contain growing collection john kelly face palm photos serve testament chief staff reported frustration dealing president trump goes script praise torch bearing white nationalists rally charlottesville kelly captured closing eyes rubbing arch nose attempting stave migraine image copyright reuters image caption white house chief staff john kelly looks president donald trump speaks campaign rally president calls north korean leaders criminals speech united nations kelly straight buries face hands white house communications team left scrambling explain reframe indelicate presidential joke remark directly contradicts official administration line kelly brought discipline west wing staff president marches beat drum continues unfettered access phone twitter corker latest person politician journalist sports star celebrity feel mercurial president uncontainable'"
      ]
     },
     "execution_count": 62,
     "metadata": {},
     "output_type": "execute_result"
    }
   ],
   "source": [
    "df['clean_joined'][0]"
   ]
  },
  {
   "cell_type": "code",
   "execution_count": 63,
   "metadata": {},
   "outputs": [
    {
     "data": {
      "text/plain": [
       "<AxesSubplot:xlabel='count', ylabel='Label'>"
      ]
     },
     "execution_count": 63,
     "metadata": {},
     "output_type": "execute_result"
    },
    {
     "data": {
      "image/png": "[encoded data removed]",
      "text/plain": [
       "<Figure size 576x576 with 1 Axes>"
      ]
     },
     "metadata": {
      "needs_background": "light"
     },
     "output_type": "display_data"
    }
   ],
   "source": [
    "plt.figure(figsize = (8,8))\n",
    "sns.countplot(y= 'Label' , data=df)"
   ]
  },
  {
   "cell_type": "code",
   "execution_count": 64,
   "metadata": {},
   "outputs": [],
   "source": [
    "from nltk.tokenize import word_tokenize\n",
    "maxlen = -1\n",
    "for doc in df.clean_joined:\n",
    "    tokens = nltk.word_tokenize(doc)\n",
    "    if(maxlen<len(tokens)):\n",
    "        maxlen= len(tokens)"
   ]
  },
  {
   "cell_type": "code",
   "execution_count": 69,
   "metadata": {},
   "outputs": [
    {
     "name": "stdout",
     "output_type": "stream",
     "text": [
      "the maximum number of words in any document is =   2683\n"
     ]
    }
   ],
   "source": [
    "print(\"the maximum number of words in any document is =  \", maxlen) "
   ]
  },
  {
   "cell_type": "code",
   "execution_count": 70,
   "metadata": {},
   "outputs": [],
   "source": [
    "from sklearn.model_selection import train_test_split\n",
    "x_train, x_test, y_train, y_test = train_test_split(df.clean_joined, df.Label, test_size=0.2)"
   ]
  },
  {
   "cell_type": "code",
   "execution_count": 71,
   "metadata": {},
   "outputs": [],
   "source": [
    "from tensorflow.keras.preprocessing.text import Tokenizer"
   ]
  },
  {
   "cell_type": "code",
   "execution_count": 72,
   "metadata": {},
   "outputs": [
    {
     "data": {
      "text/plain": [
       "3810    0\n",
       "1336    1\n",
       "531     1\n",
       "329     1\n",
       "3394    1\n",
       "       ..\n",
       "3036    0\n",
       "2239    1\n",
       "3855    0\n",
       "3590    0\n",
       "3506    1\n",
       "Name: Label, Length: 3207, dtype: int64"
      ]
     },
     "execution_count": 72,
     "metadata": {},
     "output_type": "execute_result"
    }
   ],
   "source": [
    "y_train"
   ]
  },
  {
   "cell_type": "code",
   "execution_count": 73,
   "metadata": {},
   "outputs": [
    {
     "name": "stdout",
     "output_type": "stream",
     "text": [
      "Vocabulary size: 38792\n"
     ]
    }
   ],
   "source": [
    "tokenizer = Tokenizer(num_words= total_words)\n",
    "tokenizer.fit_on_texts(x_train)\n",
    "train_sequences = tokenizer.texts_to_sequences(x_train)\n",
    "word_index = tokenizer.word_index\n",
    "print('Vocabulary size:', len(word_index))"
   ]
  },
  {
   "cell_type": "code",
   "execution_count": 74,
   "metadata": {},
   "outputs": [
    {
     "name": "stdout",
     "output_type": "stream",
     "text": [
      "Vocabulary size: 21653\n"
     ]
    }
   ],
   "source": [
    "tokenizer = Tokenizer(num_words= total_words)\n",
    "tokenizer.fit_on_texts(x_test)\n",
    "test_sequences = tokenizer.texts_to_sequences(x_test)\n",
    "word_index = tokenizer.word_index\n",
    "print('Vocabulary size:', len(word_index))"
   ]
  },
  {
   "cell_type": "code",
   "execution_count": 75,
   "metadata": {},
   "outputs": [
    {
     "name": "stdout",
     "output_type": "stream",
     "text": [
      "The encoding for document\n",
      " ways corker skewered donald trump image copyright getty images sunday morning donald trump went twitter tirade member party exactly huge news time president turned rhetorical cannons ranks time attacks particularly biting personal essentially called tennessee senator corker chair powerful senate foreign relations committee coward running election said corker begged president endorsement refused wrongly claimed corker support iranian nuclear agreement political accomplishment unlike colleagues corker free worry immediate political future hold tongue skip twitter post senbobcorker shame white house adult care center obviously missed shift morning senator corker senbobcorker october report spoke york times president choice quotes tennessee senator interview times particularly damning know president tweets things true know knows sugarcoat corker flat saying president liar knows senator particular challenging trump insistence unsuccessfully pleaded endorsement accusation broader corker president akin allies tennessean trump short list vice president secretary state image copyright getty images image caption corker trump campaign rally july days seemingly like corker going anytime soon running election senate chairing powerful committee january president margin success chamber razor democrats continue stand opposition afford lose votes republican senators healthcare reform collapsed july news efforts corker going president favours look people vast majority caucus understands dealing frustration congress growing republicans feel president inability focus advancing agenda getting sharply divided party come plans repeal obamacare reform taxes boost infrastructure spending challenging president stirs unrelated controversies seemingly daily basis makes things harder president gifts ability shake negative stories quickly moving different subject worked brilliantly presidential campaign effective legislative slow grind image copyright getty images image caption corker confirmation hearing secretary state tillerson months republicans congress grumbling background occasionally like mcconnell lament president understand senate works corker stated loud clear says agrees kept silent hope pass conservative legislation president sign fear trump legions primary challenge year stay home general election calculus changes riskier stay silent speak trump real trouble people think kind good underway true time trump appeared undercut secretary state tillerson administration attempting soft diplomacy deal range international crises taliban afghanistan iran compliance multinational nuclear agreement ongoing dispute qatar persian gulf neighbours unrest venezuela recently north korea continued ballistic missile tests target president offhand remarks twitter invective administration defenders said trump strategy updated version nixon madman theory president forces adversaries fear unpredictable leader actions corker buying strategy says possibility chaos hopes trump senior advisers able avoid know fact single white house situation trying contain growing collection john kelly face palm photos serve testament chief staff reported frustration dealing president trump goes script praise torch bearing white nationalists rally charlottesville kelly captured closing eyes rubbing arch nose attempting stave migraine image copyright reuters image caption white house chief staff john kelly looks president donald trump speaks campaign rally president calls north korean leaders criminals speech united nations kelly straight buries face hands white house communications team left scrambling explain reframe indelicate presidential joke remark directly contradicts official administration line kelly brought discipline west wing staff president marches beat drum continues unfettered access phone twitter corker latest person politician journalist sports star celebrity feel mercurial president uncontainable \n",
      " is :  [13685, 11361, 4552, 4311, 6833, 4204, 4312, 2871, 173, 404, 75, 248, 1598, 326, 165, 629]\n"
     ]
    }
   ],
   "source": [
    "print('The encoding for document\\n' , df.clean_joined[0] , \"\\n is : \" , train_sequences[0])"
   ]
  },
  {
   "cell_type": "code",
   "execution_count": 76,
   "metadata": {},
   "outputs": [],
   "source": [
    "from tensorflow.keras.preprocessing.sequence import pad_sequences\n",
    "padded_train = pad_sequences(train_sequences , maxlen =2683, padding ='post', truncating='post')\n",
    "padded_test = pad_sequences(test_sequences , maxlen =2683, padding ='post', truncating='post')"
   ]
  },
  {
   "cell_type": "code",
   "execution_count": 77,
   "metadata": {},
   "outputs": [
    {
     "name": "stdout",
     "output_type": "stream",
     "text": [
      "the padded encoding for documents 1 is [13685 11361  4552 ...     0     0     0]\n",
      "the padded encoding for documents 2 is [8752  457  773 ...    0    0    0]\n"
     ]
    }
   ],
   "source": [
    "for i,doc in enumerate(padded_train[:2]):\n",
    "    print('the padded encoding for documents' , i+1 , \"is\" , doc)"
   ]
  },
  {
   "cell_type": "code",
   "execution_count": 78,
   "metadata": {},
   "outputs": [],
   "source": [
    "from tensorflow.keras.models import Sequential\n",
    "from tensorflow.keras.layers import Dense, Bidirectional, LSTM\n",
    "from tensorflow.keras.layers import Embedding"
   ]
  },
  {
   "cell_type": "markdown",
   "metadata": {},
   "source": [
    "## Relu Activation Function 128 LSTM DIMENSIONS"
   ]
  },
  {
   "cell_type": "code",
   "execution_count": 79,
   "metadata": {},
   "outputs": [
    {
     "name": "stdout",
     "output_type": "stream",
     "text": [
      "Model: \"sequential_1\"\n",
      "_________________________________________________________________\n",
      "Layer (type)                 Output Shape              Param #   \n",
      "=================================================================\n",
      "embedding_1 (Embedding)      (None, None, 128)         5372032   \n",
      "_________________________________________________________________\n",
      "bidirectional_1 (Bidirection (None, 256)               263168    \n",
      "_________________________________________________________________\n",
      "dense_1 (Dense)              (None, 1)                 257       \n",
      "=================================================================\n",
      "Total params: 5,635,457\n",
      "Trainable params: 5,635,457\n",
      "Non-trainable params: 0\n",
      "_________________________________________________________________\n",
      "None\n"
     ]
    }
   ],
   "source": [
    "model= Sequential()\n",
    "model.add (Embedding (total_words, output_dim =128 ))\n",
    "model.add(Bidirectional(LSTM(128)))\n",
    "model.add(Dense(1, activation = 'relu'))\n",
    "model.compile(optimizer= 'adam' , loss = 'binary_crossentropy'  , metrics = ['acc'] )\n",
    "print(model.summary())"
   ]
  },
  {
   "cell_type": "code",
   "execution_count": 80,
   "metadata": {},
   "outputs": [
    {
     "name": "stdout",
     "output_type": "stream",
     "text": [
      "Epoch 1/2\n",
      "46/46 [==============================] - 695s 15s/step - loss: 0.6849 - acc: 0.7179 - val_loss: 0.2081 - val_acc: 0.8972\n",
      "Epoch 2/2\n",
      "46/46 [==============================] - 721s 16s/step - loss: 0.0641 - acc: 0.9757 - val_loss: 0.1441 - val_acc: 0.9533\n"
     ]
    },
    {
     "data": {
      "text/plain": [
       "<tensorflow.python.keras.callbacks.History at 0x7f3bfac6e040>"
      ]
     },
     "execution_count": 80,
     "metadata": {},
     "output_type": "execute_result"
    }
   ],
   "source": [
    "y_train = np.asarray(y_train)\n",
    "model.fit(padded_train,y_train, batch_size =64 , validation_split =0.1 , epochs =2)"
   ]
  },
  {
   "cell_type": "code",
   "execution_count": 81,
   "metadata": {},
   "outputs": [],
   "source": [
    "pred = model.predict(padded_test)"
   ]
  },
  {
   "cell_type": "code",
   "execution_count": 82,
   "metadata": {},
   "outputs": [],
   "source": [
    "prediction= []\n",
    "for i in range (len(pred)):\n",
    "    if pred[i].item() >0.5:\n",
    "        prediction.append(1)\n",
    "    else:\n",
    "        prediction.append(0)"
   ]
  },
  {
   "cell_type": "code",
   "execution_count": 83,
   "metadata": {},
   "outputs": [],
   "source": [
    "from sklearn.metrics import accuracy_score"
   ]
  },
  {
   "cell_type": "code",
   "execution_count": 84,
   "metadata": {},
   "outputs": [
    {
     "name": "stdout",
     "output_type": "stream",
     "text": [
      "Model accuracy with Relu activation function:  0.5511221945137157\n",
      "Confusion matrix with Relu activation function: \n",
      " [[184 247]\n",
      " [113 258]]\n"
     ]
    },
    {
     "data": {
      "text/plain": [
       "<AxesSubplot:>"
      ]
     },
     "execution_count": 84,
     "metadata": {},
     "output_type": "execute_result"
    },
    {
     "data": {
      "image/png": "[encoded data removed]",
      "text/plain": [
       "<Figure size 720x720 with 2 Axes>"
      ]
     },
     "metadata": {
      "needs_background": "light"
     },
     "output_type": "display_data"
    }
   ],
   "source": [
    "accuracy = accuracy_score(list(y_test), prediction)\n",
    "print(\"Model accuracy with Relu activation function: \", accuracy)\n",
    "from sklearn.metrics import confusion_matrix\n",
    "ca = confusion_matrix(list(y_test), prediction)\n",
    "print(\"Confusion matrix with Relu activation function: \\n\",ca)\n",
    "plt.figure(figsize = (10,10))\n",
    "sns.heatmap(ca, annot=True)"
   ]
  },
  {
   "cell_type": "code",
   "execution_count": 85,
   "metadata": {},
   "outputs": [],
   "source": [
    "from sklearn.metrics import classification_report"
   ]
  },
  {
   "cell_type": "code",
   "execution_count": 86,
   "metadata": {},
   "outputs": [
    {
     "name": "stdout",
     "output_type": "stream",
     "text": [
      "              precision    recall  f1-score   support\n",
      "\n",
      "           0       0.62      0.43      0.51       431\n",
      "           1       0.51      0.70      0.59       371\n",
      "\n",
      "    accuracy                           0.55       802\n",
      "   macro avg       0.57      0.56      0.55       802\n",
      "weighted avg       0.57      0.55      0.54       802\n",
      "\n"
     ]
    }
   ],
   "source": [
    "print(classification_report(y_test, prediction))"
   ]
  },
  {
   "cell_type": "markdown",
   "metadata": {},
   "source": [
    "## Relu Activation Function 100 LSTM DIMENSIONS"
   ]
  },
  {
   "cell_type": "code",
   "execution_count": 88,
   "metadata": {},
   "outputs": [
    {
     "name": "stdout",
     "output_type": "stream",
     "text": [
      "Model: \"sequential_2\"\n",
      "_________________________________________________________________\n",
      "Layer (type)                 Output Shape              Param #   \n",
      "=================================================================\n",
      "embedding_2 (Embedding)      (None, None, 100)         4196900   \n",
      "_________________________________________________________________\n",
      "bidirectional_2 (Bidirection (None, 200)               160800    \n",
      "_________________________________________________________________\n",
      "dense_2 (Dense)              (None, 1)                 201       \n",
      "=================================================================\n",
      "Total params: 4,357,901\n",
      "Trainable params: 4,357,901\n",
      "Non-trainable params: 0\n",
      "_________________________________________________________________\n",
      "LSTM=100\n",
      " None\n",
      "Model accuracy with relu activation function:  0.5374064837905237\n",
      "Confusion matrix: \n",
      " [[431   0]\n",
      " [371   0]]\n",
      "Classification Report of sigmoid activation function\n",
      "               precision    recall  f1-score   support\n",
      "\n",
      "           0       0.54      1.00      0.70       431\n",
      "           1       0.00      0.00      0.00       371\n",
      "\n",
      "    accuracy                           0.54       802\n",
      "   macro avg       0.27      0.50      0.35       802\n",
      "weighted avg       0.29      0.54      0.38       802\n",
      "\n"
     ]
    },
    {
     "name": "stderr",
     "output_type": "stream",
     "text": [
      "/home/aneeq/anaconda3/lib/python3.8/site-packages/sklearn/metrics/_classification.py:1221: UndefinedMetricWarning:\n",
      "\n",
      "Precision and F-score are ill-defined and being set to 0.0 in labels with no predicted samples. Use `zero_division` parameter to control this behavior.\n",
      "\n"
     ]
    }
   ],
   "source": [
    "model= Sequential()\n",
    "model.add (Embedding (total_words, output_dim =100 ))\n",
    "model.add(Bidirectional(LSTM(100)))\n",
    "model.add(Dense(1, activation = 'relu'))\n",
    "model.compile(optimizer= 'adam' , loss = 'binary_crossentropy'  , metrics = ['acc'] )\n",
    "print(\"LSTM=100\\n\",model.summary())\n",
    "pred = model.predict(padded_test)\n",
    "prediction= []\n",
    "for i in range (len(pred)):\n",
    "    if pred[i].item() >0.5:\n",
    "        prediction.append(1)\n",
    "    else:\n",
    "        prediction.append(0)\n",
    "accuracy = accuracy_score(list(y_test), prediction)\n",
    "print(\"Model accuracy with relu activation function: \", accuracy)\n",
    "ca = confusion_matrix(list(y_test), prediction)\n",
    "print(\"Confusion matrix: \\n\",ca)\n",
    "print(\"Classification Report of sigmoid activation function\\n\",classification_report(y_test, prediction))"
   ]
  },
  {
   "cell_type": "markdown",
   "metadata": {},
   "source": [
    "## Sigmoid Activation Function 128 LSTM DIMENSIONS"
   ]
  },
  {
   "cell_type": "code",
   "execution_count": 89,
   "metadata": {},
   "outputs": [
    {
     "name": "stdout",
     "output_type": "stream",
     "text": [
      "Model: \"sequential_3\"\n",
      "_________________________________________________________________\n",
      "Layer (type)                 Output Shape              Param #   \n",
      "=================================================================\n",
      "embedding_3 (Embedding)      (None, None, 128)         5372032   \n",
      "_________________________________________________________________\n",
      "bidirectional_3 (Bidirection (None, 256)               263168    \n",
      "_________________________________________________________________\n",
      "dense_3 (Dense)              (None, 1)                 257       \n",
      "=================================================================\n",
      "Total params: 5,635,457\n",
      "Trainable params: 5,635,457\n",
      "Non-trainable params: 0\n",
      "_________________________________________________________________\n",
      "LSTM=128  Activation=sigmoid\n",
      " None\n",
      "Model accuracy with sigmoid activation function:  0.4613466334164589\n",
      "Confusion matrix: \n",
      " [[  0 431]\n",
      " [  1 370]]\n",
      "Classification Report of sigmoid activation function\n",
      "               precision    recall  f1-score   support\n",
      "\n",
      "           0       0.00      0.00      0.00       431\n",
      "           1       0.46      1.00      0.63       371\n",
      "\n",
      "    accuracy                           0.46       802\n",
      "   macro avg       0.23      0.50      0.32       802\n",
      "weighted avg       0.21      0.46      0.29       802\n",
      "\n"
     ]
    }
   ],
   "source": [
    "model= Sequential()\n",
    "model.add (Embedding (total_words, output_dim =128 ))\n",
    "model.add(Bidirectional(LSTM(128)))\n",
    "model.add(Dense(1, activation = 'sigmoid'))\n",
    "model.compile(optimizer= 'adam' , loss = 'binary_crossentropy'  , metrics = ['acc'] )\n",
    "print(\"LSTM=128  Activation=sigmoid\\n\",model.summary())\n",
    "pred = model.predict(padded_test)\n",
    "prediction= []\n",
    "for i in range (len(pred)):\n",
    "    if pred[i].item() >0.5:\n",
    "        prediction.append(1)\n",
    "    else:\n",
    "        prediction.append(0)\n",
    "accuracy = accuracy_score(list(y_test), prediction)\n",
    "print(\"Model accuracy with sigmoid activation function: \", accuracy)\n",
    "ca = confusion_matrix(list(y_test), prediction)\n",
    "print(\"Confusion matrix: \\n\",ca)\n",
    "print(\"Classification Report of sigmoid activation function\\n\",classification_report(y_test, prediction))"
   ]
  },
  {
   "cell_type": "markdown",
   "metadata": {},
   "source": [
    "#### Sigmoid Activation Function 100 LSTM DIMENSIONS"
   ]
  },
  {
   "cell_type": "code",
   "execution_count": 90,
   "metadata": {},
   "outputs": [
    {
     "name": "stdout",
     "output_type": "stream",
     "text": [
      "Model: \"sequential_4\"\n",
      "_________________________________________________________________\n",
      "Layer (type)                 Output Shape              Param #   \n",
      "=================================================================\n",
      "embedding_4 (Embedding)      (None, None, 100)         4196900   \n",
      "_________________________________________________________________\n",
      "bidirectional_4 (Bidirection (None, 200)               160800    \n",
      "_________________________________________________________________\n",
      "dense_4 (Dense)              (None, 1)                 201       \n",
      "=================================================================\n",
      "Total params: 4,357,901\n",
      "Trainable params: 4,357,901\n",
      "Non-trainable params: 0\n",
      "_________________________________________________________________\n",
      "LSTM=100  Activation=sigmoid\n",
      " None\n",
      "Model accuracy with sigmoid activation function:  0.5361596009975063\n",
      "Confusion matrix: \n",
      " [[399  32]\n",
      " [340  31]]\n",
      "Classification Report of sigmoid activation function\n",
      "               precision    recall  f1-score   support\n",
      "\n",
      "           0       0.54      0.93      0.68       431\n",
      "           1       0.49      0.08      0.14       371\n",
      "\n",
      "    accuracy                           0.54       802\n",
      "   macro avg       0.52      0.50      0.41       802\n",
      "weighted avg       0.52      0.54      0.43       802\n",
      "\n"
     ]
    }
   ],
   "source": [
    "model= Sequential()\n",
    "model.add (Embedding (total_words, output_dim =100 ))\n",
    "model.add(Bidirectional(LSTM(100)))\n",
    "model.add(Dense(1, activation = 'sigmoid'))\n",
    "model.compile(optimizer= 'adam' , loss = 'binary_crossentropy'  , metrics = ['acc'] )\n",
    "print(\"LSTM=100  Activation=sigmoid\\n\",model.summary())\n",
    "pred = model.predict(padded_test)\n",
    "prediction= []\n",
    "for i in range (len(pred)):\n",
    "    if pred[i].item() >0.5:\n",
    "        prediction.append(1)\n",
    "    else:\n",
    "        prediction.append(0)\n",
    "accuracy = accuracy_score(list(y_test), prediction)\n",
    "print(\"Model accuracy with sigmoid activation function: \", accuracy)\n",
    "from sklearn.metrics import confusion_matrix\n",
    "ca = confusion_matrix(list(y_test), prediction)\n",
    "print(\"Confusion matrix: \\n\",ca)\n",
    "print(\"Classification Report of sigmoid activation function\\n\",classification_report(y_test, prediction))"
   ]
  },
  {
   "cell_type": "markdown",
   "metadata": {},
   "source": [
    "## Hyperbolic Tangent Activation Function 128 LSTM DIMENSIONS"
   ]
  },
  {
   "cell_type": "code",
   "execution_count": 91,
   "metadata": {},
   "outputs": [
    {
     "name": "stdout",
     "output_type": "stream",
     "text": [
      "Model: \"sequential_5\"\n",
      "_________________________________________________________________\n",
      "Layer (type)                 Output Shape              Param #   \n",
      "=================================================================\n",
      "embedding_5 (Embedding)      (None, None, 128)         5372032   \n",
      "_________________________________________________________________\n",
      "bidirectional_5 (Bidirection (None, 256)               263168    \n",
      "_________________________________________________________________\n",
      "dense_5 (Dense)              (None, 1)                 257       \n",
      "=================================================================\n",
      "Total params: 5,635,457\n",
      "Trainable params: 5,635,457\n",
      "Non-trainable params: 0\n",
      "_________________________________________________________________\n",
      "LSTM=128  Activation=Tanh\n",
      " None\n",
      "Model accuracy with tanh activation function:  0.5374064837905237\n",
      "Confusion matrix: \n",
      " [[431   0]\n",
      " [371   0]]\n",
      "Classification Report of tanh activation function\n",
      "               precision    recall  f1-score   support\n",
      "\n",
      "           0       0.54      1.00      0.70       431\n",
      "           1       0.00      0.00      0.00       371\n",
      "\n",
      "    accuracy                           0.54       802\n",
      "   macro avg       0.27      0.50      0.35       802\n",
      "weighted avg       0.29      0.54      0.38       802\n",
      "\n"
     ]
    }
   ],
   "source": [
    "model= Sequential()\n",
    "model.add (Embedding (total_words, output_dim =128 ))\n",
    "model.add(Bidirectional(LSTM(128)))\n",
    "model.add(Dense(1, activation = 'tanh'))\n",
    "model.compile(optimizer= 'adam' , loss = 'binary_crossentropy'  , metrics = ['acc'] )\n",
    "print(\"LSTM=128  Activation=Tanh\\n\",model.summary())\n",
    "pred = model.predict(padded_test)\n",
    "prediction= []\n",
    "for i in range (len(pred)):\n",
    "    if pred[i].item() >0.5:\n",
    "        prediction.append(1)\n",
    "    else:\n",
    "        prediction.append(0)\n",
    "accuracy = accuracy_score(list(y_test), prediction)\n",
    "print(\"Model accuracy with tanh activation function: \", accuracy)\n",
    "from sklearn.metrics import confusion_matrix\n",
    "ca = confusion_matrix(list(y_test), prediction)\n",
    "print(\"Confusion matrix: \\n\",ca)\n",
    "print(\"Classification Report of tanh activation function\\n\",classification_report(y_test, prediction))"
   ]
  },
  {
   "cell_type": "markdown",
   "metadata": {},
   "source": [
    "## Hyperbolic Tangent Activation Function 100 LSTM DIMENSIONS"
   ]
  },
  {
   "cell_type": "code",
   "execution_count": 92,
   "metadata": {},
   "outputs": [
    {
     "name": "stdout",
     "output_type": "stream",
     "text": [
      "Model: \"sequential_6\"\n",
      "_________________________________________________________________\n",
      "Layer (type)                 Output Shape              Param #   \n",
      "=================================================================\n",
      "embedding_6 (Embedding)      (None, None, 100)         4196900   \n",
      "_________________________________________________________________\n",
      "bidirectional_6 (Bidirection (None, 200)               160800    \n",
      "_________________________________________________________________\n",
      "dense_6 (Dense)              (None, 1)                 201       \n",
      "=================================================================\n",
      "Total params: 4,357,901\n",
      "Trainable params: 4,357,901\n",
      "Non-trainable params: 0\n",
      "_________________________________________________________________\n",
      "LSTM=100  Activation=Tanh\n",
      " None\n",
      "Model accuracy with tanh activation function:  0.5374064837905237\n",
      "Confusion matrix: \n",
      " [[431   0]\n",
      " [371   0]]\n",
      "Classification Report of tanh activation function\n",
      "               precision    recall  f1-score   support\n",
      "\n",
      "           0       0.54      1.00      0.70       431\n",
      "           1       0.00      0.00      0.00       371\n",
      "\n",
      "    accuracy                           0.54       802\n",
      "   macro avg       0.27      0.50      0.35       802\n",
      "weighted avg       0.29      0.54      0.38       802\n",
      "\n"
     ]
    }
   ],
   "source": [
    "model= Sequential()\n",
    "model.add (Embedding (total_words, output_dim =100 ))\n",
    "model.add(Bidirectional(LSTM(100)))\n",
    "model.add(Dense(1, activation = 'tanh'))\n",
    "model.compile(optimizer= 'adam' , loss = 'binary_crossentropy'  , metrics = ['acc'] )\n",
    "print(\"LSTM=100  Activation=Tanh\\n\",model.summary())\n",
    "pred = model.predict(padded_test)\n",
    "prediction= []\n",
    "for i in range (len(pred)):\n",
    "    if pred[i].item() >0.5:\n",
    "        prediction.append(1)\n",
    "    else:\n",
    "        prediction.append(0)\n",
    "accuracy = accuracy_score(list(y_test), prediction)\n",
    "print(\"Model accuracy with tanh activation function: \", accuracy)\n",
    "from sklearn.metrics import confusion_matrix\n",
    "ca = confusion_matrix(list(y_test), prediction)\n",
    "print(\"Confusion matrix: \\n\",ca)\n",
    "print(\"Classification Report of tanh activation function\\n\",classification_report(y_test, prediction))"
   ]
  },
  {
   "cell_type": "code",
   "execution_count": null,
   "metadata": {},
   "outputs": [],
   "source": []
  }
 ],
 "metadata": {
  "kernelspec": {
   "display_name": "Python 3",
   "language": "python",
   "name": "python3"
  },
  "language_info": {
   "codemirror_mode": {
    "name": "ipython",
    "version": 3
   },
   "file_extension": ".py",
   "mimetype": "text/x-python",
   "name": "python",
   "nbconvert_exporter": "python",
   "pygments_lexer": "ipython3",
   "version": "3.8.5"
  }
 },
 "nbformat": 4,
 "nbformat_minor": 4
}
